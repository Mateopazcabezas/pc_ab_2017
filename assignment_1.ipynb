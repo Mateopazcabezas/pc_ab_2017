{
 "cells": [
  {
   "cell_type": "markdown",
   "metadata": {},
   "source": [
    "## Assignment 1\n",
    "\n",
    "\n",
    "### Question 1.\n",
    "\n",
    "The `string` module has a number of useful strings such as `ascii_letters`. Import it into the shell and apply `dir(string)` to find out about them.\n",
    "\n",
    "What does Python consider punctuation marks? And whitespace?\n",
    "\n",
    "What is the function/effect of the various whitespace symbols?"
   ]
  },
  {
   "cell_type": "code",
   "execution_count": null,
   "metadata": {
    "collapsed": true
   },
   "outputs": [],
   "source": []
  },
  {
   "cell_type": "markdown",
   "metadata": {},
   "source": [
    "### Question 2.\n",
    "\n",
    "A protein can be considered as a sequence of letters from the alphabet list `['A', 'C', 'G', 'T']`.\n",
    "\n",
    "We want to generate random proteins using the method `choice` of the `numpy.random` submodule.\n",
    "\n",
    "Write a function `random_protein(lenght)` that returns a string with `lenght` characters chosen randomly from `l_bases = ['A', 'C', 'G', 'T']` list.    \n",
    "\n",
    "Hint: apply repeatedly `choice` over `l_bases` adding the choices into a list and then convert it into a string using the `join` string method."
   ]
  },
  {
   "cell_type": "code",
   "execution_count": null,
   "metadata": {
    "collapsed": true
   },
   "outputs": [],
   "source": []
  },
  {
   "cell_type": "markdown",
   "metadata": {},
   "source": [
    "### Question 3.\n",
    "\n",
    "We are not too sure that our protein string is truly random.\n",
    "\n",
    "To check it write a function `count_bases_0(str_protein)` that returns a dict with keys the bases and values their absolute frequencies (i.e., if at the end we have `'A':153` it means that `'A'` appears 153 times in `str_protein`).\n",
    "The function simply will traverse the string and increase the value of the corresponding dict's key."
   ]
  },
  {
   "cell_type": "code",
   "execution_count": null,
   "metadata": {
    "collapsed": true
   },
   "outputs": [],
   "source": []
  },
  {
   "cell_type": "markdown",
   "metadata": {},
   "source": [
    "### Question 4.\n",
    "\n",
    "We are going to improve our previous function using Numpy's index selection functionality.\n",
    "To do so we can transform `str_protein` into an array by\n",
    "\n",
    "`a_protein = np.array( list(str_protein) )`\n",
    " \n",
    "and then select and sum the indices where `a_protein` equals a given base by\n",
    "\n",
    "`(a_protein == base).sum()`.\n",
    "\n",
    "Use these ideas to write a function `count_bases` that applies them to build a frequency dictionary of the bases in `str_protein`."
   ]
  },
  {
   "cell_type": "code",
   "execution_count": null,
   "metadata": {
    "collapsed": true
   },
   "outputs": [],
   "source": []
  }
 ],
 "metadata": {
  "kernelspec": {
   "display_name": "Python 3",
   "language": "python",
   "name": "python3"
  },
  "language_info": {
   "codemirror_mode": {
    "name": "ipython",
    "version": 3
   },
   "file_extension": ".py",
   "mimetype": "text/x-python",
   "name": "python",
   "nbconvert_exporter": "python",
   "pygments_lexer": "ipython3",
   "version": "3.5.3"
  }
 },
 "nbformat": 4,
 "nbformat_minor": 2
}
