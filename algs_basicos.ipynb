{
 "cells": [
  {
   "cell_type": "code",
   "execution_count": 2,
   "metadata": {
    "collapsed": false
   },
   "outputs": [],
   "source": [
    "%matplotlib inline\n",
    "%load_ext autoreload\n",
    "%autoreload 2"
   ]
  },
  {
   "cell_type": "code",
   "execution_count": 3,
   "metadata": {
    "collapsed": true
   },
   "outputs": [],
   "source": [
    "import numpy as np\n",
    "import matplotlib.pyplot as plt"
   ]
  },
  {
   "cell_type": "markdown",
   "metadata": {},
   "source": [
    "## Euclid's Algorithm"
   ]
  },
  {
   "cell_type": "code",
   "execution_count": 4,
   "metadata": {
    "collapsed": true
   },
   "outputs": [],
   "source": [
    "def euclid_gcd(a, b): \n",
    "    \"\"\"\n",
    "    \"\"\"\n",
    "    while b > 0:\n",
    "        print(a, b)\n",
    "        r = a % b\n",
    "        a = b\n",
    "        b = r\n",
    "    \n",
    "    return a"
   ]
  },
  {
   "cell_type": "code",
   "execution_count": 5,
   "metadata": {
    "collapsed": false
   },
   "outputs": [
    {
     "data": {
      "text/plain": [
       "['__annotations__',\n",
       " '__call__',\n",
       " '__class__',\n",
       " '__closure__',\n",
       " '__code__',\n",
       " '__defaults__',\n",
       " '__delattr__',\n",
       " '__dict__',\n",
       " '__dir__',\n",
       " '__doc__',\n",
       " '__eq__',\n",
       " '__format__',\n",
       " '__ge__',\n",
       " '__get__',\n",
       " '__getattribute__',\n",
       " '__globals__',\n",
       " '__gt__',\n",
       " '__hash__',\n",
       " '__init__',\n",
       " '__kwdefaults__',\n",
       " '__le__',\n",
       " '__lt__',\n",
       " '__module__',\n",
       " '__name__',\n",
       " '__ne__',\n",
       " '__new__',\n",
       " '__qualname__',\n",
       " '__reduce__',\n",
       " '__reduce_ex__',\n",
       " '__repr__',\n",
       " '__setattr__',\n",
       " '__sizeof__',\n",
       " '__str__',\n",
       " '__subclasshook__']"
      ]
     },
     "execution_count": 5,
     "metadata": {},
     "output_type": "execute_result"
    }
   ],
   "source": [
    "dir(euclid_gcd)"
   ]
  },
  {
   "cell_type": "code",
   "execution_count": 6,
   "metadata": {
    "collapsed": true
   },
   "outputs": [],
   "source": [
    "def euclid_gcd(a, b): \n",
    "    \"\"\"\n",
    "    \"\"\"\n",
    "    while b > 0:\n",
    "        print(a, b)\n",
    "        r = a % b\n",
    "        a = b\n",
    "        b = r\n",
    "    \n",
    "    return a"
   ]
  },
  {
   "cell_type": "code",
   "execution_count": 7,
   "metadata": {
    "collapsed": false
   },
   "outputs": [
    {
     "name": "stdout",
     "output_type": "stream",
     "text": [
      "25 14\n",
      "14 11\n",
      "11 3\n",
      "3 2\n",
      "2 1\n",
      "1\n"
     ]
    }
   ],
   "source": [
    "print(euclid_gcd(25, 14))"
   ]
  },
  {
   "cell_type": "code",
   "execution_count": 8,
   "metadata": {
    "collapsed": false
   },
   "outputs": [
    {
     "name": "stdout",
     "output_type": "stream",
     "text": [
      "0\n"
     ]
    }
   ],
   "source": [
    "print(euclid_gcd(0, 0))"
   ]
  },
  {
   "cell_type": "code",
   "execution_count": 9,
   "metadata": {
    "collapsed": true
   },
   "outputs": [],
   "source": [
    "def euclid_gcd(a, b): \n",
    "    \"\"\"\n",
    "    \"\"\"\n",
    "    while b > 0:\n",
    "        a, b = b, a % b\n",
    "        \n",
    "    return a"
   ]
  },
  {
   "cell_type": "code",
   "execution_count": 10,
   "metadata": {
    "collapsed": false
   },
   "outputs": [
    {
     "name": "stdout",
     "output_type": "stream",
     "text": [
      "1234\n",
      "1234\n",
      "1234\n",
      "1\n",
      "0\n"
     ]
    }
   ],
   "source": [
    "print(euclid_gcd(1234, 0))\n",
    "\n",
    "print(euclid_gcd(0, 1234))\n",
    "\n",
    "print(euclid_gcd(1234, -143))\n",
    "\n",
    "print(euclid_gcd(-1234, 143))\n",
    "\n",
    "print(euclid_gcd(0, 0))"
   ]
  },
  {
   "cell_type": "code",
   "execution_count": 11,
   "metadata": {
    "collapsed": true
   },
   "outputs": [],
   "source": [
    "def euclid_gcd(a, b): \n",
    "    \"\"\"\n",
    "    \"\"\"\n",
    "    assert a > 0 and b > 0, \"both arguments must be positive\"\n",
    "    \n",
    "    while b > 0:\n",
    "        a, b = b, a % b\n",
    "    \n",
    "    return a"
   ]
  },
  {
   "cell_type": "code",
   "execution_count": 12,
   "metadata": {
    "collapsed": false
   },
   "outputs": [
    {
     "name": "stdout",
     "output_type": "stream",
     "text": [
      "1\n",
      "143\n"
     ]
    }
   ],
   "source": [
    "print(euclid_gcd(1234, 143))\n",
    "\n",
    "print(euclid_gcd(1234*143, 143**2))"
   ]
  },
  {
   "cell_type": "code",
   "execution_count": 13,
   "metadata": {
    "collapsed": false
   },
   "outputs": [
    {
     "ename": "AssertionError",
     "evalue": "both arguments must be positive",
     "output_type": "error",
     "traceback": [
      "\u001b[1;31m---------------------------------------------------------------------------\u001b[0m",
      "\u001b[1;31mAssertionError\u001b[0m                            Traceback (most recent call last)",
      "\u001b[1;32m<ipython-input-13-49a11cb5d060>\u001b[0m in \u001b[0;36m<module>\u001b[1;34m()\u001b[0m\n\u001b[1;32m----> 1\u001b[1;33m \u001b[0mprint\u001b[0m\u001b[1;33m(\u001b[0m\u001b[0meuclid_gcd\u001b[0m\u001b[1;33m(\u001b[0m\u001b[1;36m1234\u001b[0m\u001b[1;33m,\u001b[0m \u001b[1;33m-\u001b[0m\u001b[1;36m143\u001b[0m\u001b[1;33m)\u001b[0m\u001b[1;33m)\u001b[0m\u001b[1;33m\u001b[0m\u001b[0m\n\u001b[0m",
      "\u001b[1;32m<ipython-input-11-c29b37339978>\u001b[0m in \u001b[0;36meuclid_gcd\u001b[1;34m(a, b)\u001b[0m\n\u001b[0;32m      2\u001b[0m     \"\"\"\n\u001b[0;32m      3\u001b[0m     \"\"\"\n\u001b[1;32m----> 4\u001b[1;33m     \u001b[1;32massert\u001b[0m \u001b[0ma\u001b[0m \u001b[1;33m>\u001b[0m \u001b[1;36m0\u001b[0m \u001b[1;32mand\u001b[0m \u001b[0mb\u001b[0m \u001b[1;33m>\u001b[0m \u001b[1;36m0\u001b[0m\u001b[1;33m,\u001b[0m \u001b[1;34m\"both arguments must be positive\"\u001b[0m\u001b[1;33m\u001b[0m\u001b[0m\n\u001b[0m\u001b[0;32m      5\u001b[0m \u001b[1;33m\u001b[0m\u001b[0m\n\u001b[0;32m      6\u001b[0m     \u001b[1;32mwhile\u001b[0m \u001b[0mb\u001b[0m \u001b[1;33m>\u001b[0m \u001b[1;36m0\u001b[0m\u001b[1;33m:\u001b[0m\u001b[1;33m\u001b[0m\u001b[0m\n",
      "\u001b[1;31mAssertionError\u001b[0m: both arguments must be positive"
     ]
    }
   ],
   "source": [
    "print(euclid_gcd(1234, -143))"
   ]
  },
  {
   "cell_type": "code",
   "execution_count": 14,
   "metadata": {
    "collapsed": false
   },
   "outputs": [
    {
     "name": "stdout",
     "output_type": "stream",
     "text": [
      "<function euclid_gcd at 0x000001CA67CF6D90>\n"
     ]
    }
   ],
   "source": [
    "#dir(euclid_gcd)\n",
    "print(euclid_gcd)"
   ]
  },
  {
   "cell_type": "markdown",
   "metadata": {},
   "source": [
    "## Giving Change"
   ]
  },
  {
   "cell_type": "code",
   "execution_count": 17,
   "metadata": {
    "collapsed": true
   },
   "outputs": [],
   "source": [
    "def change(c): \n",
    "    assert c >= 0, \"change for positive amounts only\"\n",
    "\n",
    "    l_coin_values = [1, 2, 5, 10, 20, 50, 100, 200, 500, \\\n",
    "                     1000, 2000, 5000, 10000]\n",
    "    d_change = {}\n",
    "    \n",
    "    for coin in sorted(l_coin_values)[ : : -1]:\n",
    "        d_change[ coin ] = c // coin\n",
    "        c = c % coin\n",
    "\n",
    "    return d_change    "
   ]
  },
  {
   "cell_type": "code",
   "execution_count": 19,
   "metadata": {
    "collapsed": false
   },
   "outputs": [
    {
     "name": "stdout",
     "output_type": "stream",
     "text": [
      "changing 5.67 euros:\n",
      "\tcoins of value 500:\t1\n",
      "\tcoins of value 50:\t1\n",
      "\tcoins of value 10:\t1\n",
      "\tcoins of value 5:\t1\n",
      "\tcoins of value 2:\t1\n"
     ]
    }
   ],
   "source": [
    "euros = 5.67\n",
    "print(\"changing %.2f euros:\" % euros)\n",
    "d_change = change( int(100*euros) )\n",
    "\n",
    "l_coin_values = [1, 2, 5, 10, 20, 50, 100, 200, 500, \\\n",
    "                     1000, 2000, 5000, 10000]\n",
    "    \n",
    "for coin in sorted(l_coin_values)[ : : -1]:\n",
    "    if d_change[coin] > 0:\n",
    "        print(\"\\tcoins of value %d:\\t%d\" % (coin, d_change[coin]))"
   ]
  },
  {
   "cell_type": "markdown",
   "metadata": {},
   "source": [
    "## The Traveling Salesman Problem"
   ]
  },
  {
   "cell_type": "code",
   "execution_count": 20,
   "metadata": {
    "collapsed": true
   },
   "outputs": [],
   "source": [
    "def greedy_tsp_circuit(num_cities=4):\n",
    "    \"\"\"First version, generating a random  matrix.\n",
    "    \"\"\"\n",
    "    dist_m = np.random.randint(0, 200, (num_cities, num_cities) )\n",
    "    dist_m = (dist_m + dist_m.T) // 2\n",
    "    \n",
    "    dist_m = dist_m - np.diag( np.diag(dist_m) )\n",
    "    print(\"distance matrix:\\n\", dist_m)\n",
    "    \n",
    "    circuit = [0]\n",
    "    for city in range(1, num_cities):\n",
    "        options = list( np.argsort( dist_m[circuit[-1]]) )[1 : ]\n",
    "        for city in options:\n",
    "            if city not in circuit:\n",
    "                circuit.append(city)\n",
    "                break\n",
    "                \n",
    "    return circuit"
   ]
  },
  {
   "cell_type": "code",
   "execution_count": 24,
   "metadata": {
    "collapsed": false
   },
   "outputs": [
    {
     "name": "stdout",
     "output_type": "stream",
     "text": [
      "distance matrix:\n",
      " [[  0  91  75 142]\n",
      " [ 91   0 170 106]\n",
      " [ 75 170   0  14]\n",
      " [142 106  14   0]]\n",
      "\n",
      " [0, 2, 3, 1, 0]\n"
     ]
    }
   ],
   "source": [
    "circuit = greedy_tsp_circuit(4)\n",
    "print(\"\\n\", circuit + [ circuit[0] ])"
   ]
  },
  {
   "cell_type": "code",
   "execution_count": 28,
   "metadata": {
    "collapsed": true
   },
   "outputs": [],
   "source": [
    "def greedy_tsp_circuit(dist_m, node_ini=0):\n",
    "    \"\"\"Better version, receiving a distance matrix.\n",
    "    \"\"\"\n",
    "    num_cities = dist_m.shape[0]\n",
    "    assert num_cities == dist_m.shape[1] and node_ini in range(num_cities), \\\n",
    "           \"matrix not square or invalid initial node\"\n",
    "           \n",
    "    circuit = [node_ini]\n",
    "    for city in range(1, num_cities):\n",
    "        options = list( np.argsort( dist_m[circuit[-1]]) )[1 : ]\n",
    "        for city in options:\n",
    "            if city not in circuit:\n",
    "                circuit.append(city)\n",
    "                break\n",
    "    \n",
    "    circuit = circuit + [node_ini]\n",
    "    return circuit"
   ]
  },
  {
   "cell_type": "code",
   "execution_count": 30,
   "metadata": {
    "collapsed": false
   },
   "outputs": [
    {
     "name": "stdout",
     "output_type": "stream",
     "text": [
      "Madrid\n",
      "Valencia\n",
      "Barcelona\n",
      "Sevilla\n",
      "Madrid\n"
     ]
    }
   ],
   "source": [
    "dist_b_m_s_v = np.array([\n",
    "[0, 624, 995, 350], \n",
    "[624, 0, 506, 357],\n",
    "[995, 506, 0, 653],\n",
    "[350, 357, 653, 0]])\n",
    "\n",
    "circuit = greedy_tsp_circuit(dist_b_m_s_v)\n",
    "\n",
    "d_cities = {0:'Madrid', 1:'Barcelona', 2:'Sevilla', 3:'Valencia'}\n",
    "\n",
    "for c in circuit:\n",
    "    print(d_cities[c])    "
   ]
  },
  {
   "cell_type": "markdown",
   "metadata": {},
   "source": [
    "## The Towers of Hanoi"
   ]
  },
  {
   "cell_type": "code",
   "execution_count": null,
   "metadata": {
    "collapsed": true
   },
   "outputs": [],
   "source": [
    "def hanoi(n_disks, a=1, b=2, c=3):\n",
    "    \"\"\"\n",
    "    \"\"\"\n",
    "    assert n_disks > 0, \"n_disks at least 1\"\n",
    "    \n",
    "    if n_disks == 1:\n",
    "        print(\"move disk from %d to %d\" % (a, b))\n",
    "    else:\n",
    "        hanoi(n_disks - 1, a, c, b)\n",
    "        print(\"move disk from %d to %d\" % (a, b))\n",
    "        hanoi(n_disks - 1, c, b, a)"
   ]
  },
  {
   "cell_type": "code",
   "execution_count": null,
   "metadata": {
    "collapsed": false
   },
   "outputs": [],
   "source": [
    "hanoi(3)"
   ]
  },
  {
   "cell_type": "markdown",
   "metadata": {},
   "source": [
    "## Sorting"
   ]
  },
  {
   "cell_type": "code",
   "execution_count": null,
   "metadata": {
    "collapsed": true
   },
   "outputs": [],
   "source": [
    "def merge_sort_0(l_ints):\n",
    "    n = len(l_ints)\n",
    "    \n",
    "    if n == 1:\n",
    "        return l_ints\n",
    "        \n",
    "    elif n > 1:\n",
    "        m = (n-1)//2\n",
    "        l_left  = merge_sort_0(l_ints[ : m+1])\n",
    "        l_right = merge_sort_0(l_ints[m+1: ])\n",
    "            \n",
    "        return sorted(l_left + l_right)"
   ]
  },
  {
   "cell_type": "code",
   "execution_count": null,
   "metadata": {
    "collapsed": false
   },
   "outputs": [],
   "source": [
    "l_ints = [1437, 224, 73, 95, 42]\n",
    "\n",
    "merge_sort_0(l_ints)"
   ]
  },
  {
   "cell_type": "code",
   "execution_count": null,
   "metadata": {
    "collapsed": true
   },
   "outputs": [],
   "source": [
    "def combine(l_left, l_right):\n",
    "    \"\"\"\n",
    "    \"\"\"\n",
    "    l_combined = []\n",
    "    i_left = i_right= 0\n",
    "    \n",
    "    while i_left < len(l_left) and i_right < len(l_right):\n",
    "        if l_left[i_left] <= l_right[i_right]:\n",
    "            l_combined.append(l_left[i_left])\n",
    "            i_left += 1\n",
    "        else:\n",
    "            l_combined.append(l_right[i_right])\n",
    "            i_right += 1\n",
    "    \n",
    "    if i_left < len(l_left):\n",
    "        l_combined += l_left[i_left : ]\n",
    "    else:\n",
    "        l_combined += l_right[i_right : ]\n",
    "    \n",
    "    return l_combined\n",
    "\n",
    "\n",
    "def merge_sort(l_ints):\n",
    "    \"\"\"\n",
    "    \"\"\"\n",
    "    n = len(l_ints)\n",
    "    \n",
    "    if n == 1:\n",
    "        return l_ints\n",
    "        \n",
    "    elif n > 1:\n",
    "        m = (n+1)//2\n",
    "        l_left  = merge_sort(l_ints[ : m])\n",
    "        l_right = merge_sort(l_ints[m: ])\n",
    "            \n",
    "        return combine(l_left, l_right)"
   ]
  },
  {
   "cell_type": "code",
   "execution_count": null,
   "metadata": {
    "collapsed": false
   },
   "outputs": [],
   "source": [
    "l_ints = [1437, 224, 73, 95, 42, 673, 59, 13, 2345]\n",
    "\n",
    "merge_sort_0(l_ints)"
   ]
  },
  {
   "cell_type": "markdown",
   "metadata": {},
   "source": [
    "## Matrix Multiplication"
   ]
  },
  {
   "cell_type": "code",
   "execution_count": null,
   "metadata": {
    "collapsed": true
   },
   "outputs": [],
   "source": [
    "def matrix_multiplication(m_1, m_2):\n",
    "    \"\"\"\n",
    "    \"\"\"\n",
    "    n_rows, n_interm, n_columns = \\\n",
    "        m_1.shape[0], m_2.shape[0], m_2.shape[1]\n",
    "    \n",
    "    m_product = np.zeros( (n_rows, n_columns) )\n",
    "    \n",
    "    for p in range(n_rows):\n",
    "        for q in range(n_columns):\n",
    "            for r in range(n_interm):\n",
    "                m_product[p, q] += m_1[p, r] * m_2[r, q]\n",
    "                \n",
    "    return m_product"
   ]
  },
  {
   "cell_type": "code",
   "execution_count": null,
   "metadata": {
    "collapsed": false
   },
   "outputs": [],
   "source": [
    "m_1 = np.ones( (4, 4) )\n",
    "m_2 = np.eye(4)\n",
    "\n",
    "print( matrix_multiplication(m_1, m_1) )\n",
    "\n",
    "print('\\n',  matrix_multiplication(m_1, m_2) )\n",
    "\n",
    "print('\\n',  matrix_multiplication(m_2, m_2) )"
   ]
  },
  {
   "cell_type": "markdown",
   "metadata": {},
   "source": [
    "## Linear Search"
   ]
  },
  {
   "cell_type": "code",
   "execution_count": null,
   "metadata": {
    "collapsed": true
   },
   "outputs": [],
   "source": [
    "def linear_search(key, l_ints):\n",
    "    for i, val in enumerate(l_ints):\n",
    "        if l_ints[i] == key:\n",
    "            return i\n",
    "    \n",
    "    return None"
   ]
  },
  {
   "cell_type": "code",
   "execution_count": null,
   "metadata": {
    "collapsed": false
   },
   "outputs": [],
   "source": [
    "print( linear_search(13, l_ints) )\n",
    "\n",
    "print( linear_search(133, l_ints) )\n",
    "\n",
    "key = 13\n",
    "key_pos = linear_search(key, l_ints)\n",
    "if key_pos:\n",
    "    print('\\npos of key %d: %d' % (key, key_pos))"
   ]
  },
  {
   "cell_type": "markdown",
   "metadata": {},
   "source": [
    "## Basic Timing"
   ]
  },
  {
   "cell_type": "code",
   "execution_count": null,
   "metadata": {
    "collapsed": false
   },
   "outputs": [],
   "source": [
    "a = np.ones((50, 50))\n",
    "b = np.eye(50)\n",
    "\n",
    "%timeit matrix_multiplication(a, b)"
   ]
  },
  {
   "cell_type": "code",
   "execution_count": null,
   "metadata": {
    "collapsed": false
   },
   "outputs": [],
   "source": [
    "a = np.ones((50*5, 50*5))\n",
    "b = np.eye(50*5)\n",
    "\n",
    "%timeit matrix_multiplication(a, b)"
   ]
  },
  {
   "cell_type": "code",
   "execution_count": null,
   "metadata": {
    "collapsed": false
   },
   "outputs": [],
   "source": [
    "a = np.ones((50*5, 50*5))\n",
    "b = np.eye(50*5)\n",
    "\n",
    "%timeit a.dot(b)"
   ]
  }
 ],
 "metadata": {
  "kernelspec": {
   "display_name": "Python 3",
   "language": "python",
   "name": "python3"
  },
  "language_info": {
   "codemirror_mode": {
    "name": "ipython",
    "version": 3
   },
   "file_extension": ".py",
   "mimetype": "text/x-python",
   "name": "python",
   "nbconvert_exporter": "python",
   "pygments_lexer": "ipython3",
   "version": "3.5.3"
  }
 },
 "nbformat": 4,
 "nbformat_minor": 2
}
